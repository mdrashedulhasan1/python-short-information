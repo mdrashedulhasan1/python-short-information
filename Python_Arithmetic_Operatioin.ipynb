{
  "nbformat": 4,
  "nbformat_minor": 0,
  "metadata": {
    "colab": {
      "name": "Python_Arithmetic_Operatioin.ipynb",
      "provenance": [],
      "authorship_tag": "ABX9TyNBhV7b7gtDIjBxIAAJ8239",
      "include_colab_link": true
    },
    "kernelspec": {
      "name": "python3",
      "display_name": "Python 3"
    },
    "language_info": {
      "name": "python"
    }
  },
  "cells": [
    {
      "cell_type": "markdown",
      "metadata": {
        "id": "view-in-github",
        "colab_type": "text"
      },
      "source": [
        "<a href=\"https://colab.research.google.com/github/mdrashedulhasan1/python-short-information/blob/main/Python_Arithmetic_Operatioin.ipynb\" target=\"_parent\"><img src=\"https://colab.research.google.com/assets/colab-badge.svg\" alt=\"Open In Colab\"/></a>"
      ]
    },
    {
      "cell_type": "code",
      "metadata": {
        "colab": {
          "base_uri": "https://localhost:8080/"
        },
        "id": "rGbk6tMRUUSQ",
        "outputId": "a31f175a-25c0-4fc8-df41-c3c8631473df"
      },
      "source": [
        "# 2+3 Addition\n",
        "# 9-2 Subtraction\n",
        "# 3*2 Multiplication\n",
        "# 4/2 Division\n",
        "# 10%3 Remainder\n",
        "# 5//2 (Integer or Floor Division)\n",
        "# 4**3 (power)"
      ],
      "execution_count": 3,
      "outputs": [
        {
          "output_type": "execute_result",
          "data": {
            "text/plain": [
              "7"
            ]
          },
          "metadata": {},
          "execution_count": 3
        }
      ]
    }
  ]
}