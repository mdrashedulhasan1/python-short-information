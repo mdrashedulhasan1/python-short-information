{
  "nbformat": 4,
  "nbformat_minor": 0,
  "metadata": {
    "colab": {
      "name": "Python_String.ipynb",
      "provenance": [],
      "authorship_tag": "ABX9TyPTk6XbWaf42NiLvpx5vjV7",
      "include_colab_link": true
    },
    "kernelspec": {
      "name": "python3",
      "display_name": "Python 3"
    },
    "language_info": {
      "name": "python"
    }
  },
  "cells": [
    {
      "cell_type": "markdown",
      "metadata": {
        "id": "view-in-github",
        "colab_type": "text"
      },
      "source": [
        "<a href=\"https://colab.research.google.com/github/mdrashedulhasan1/python-short-information/blob/main/Python_String.ipynb\" target=\"_parent\"><img src=\"https://colab.research.google.com/assets/colab-badge.svg\" alt=\"Open In Colab\"/></a>"
      ]
    },
    {
      "cell_type": "code",
      "metadata": {
        "colab": {
          "base_uri": "https://localhost:8080/"
        },
        "id": "rh_HJMHkJ_Hd",
        "outputId": "6d4a0074-3ac9-45b3-b508-50e466686782"
      },
      "source": [
        "# 'Tapu'\n",
        "# print('Tapu')\n",
        "\n",
        "# print(\"Tapu's car\")\n",
        "# print('Tapu's car) Error\n",
        "# print('Tapu\\'s car') Solved\n",
        "\n",
        "# print('Tapu'+' Tapu') Contatination\n",
        "\n",
        "# print(10*' Tapu')\n",
        "\n",
        "# print('c:\\docs\\new') Not exact output\n",
        "# print(r'c:\\docs\\new') Solved"
      ],
      "execution_count": 12,
      "outputs": [
        {
          "output_type": "stream",
          "name": "stdout",
          "text": [
            "c:\\docs\\new\n"
          ]
        }
      ]
    }
  ]
}